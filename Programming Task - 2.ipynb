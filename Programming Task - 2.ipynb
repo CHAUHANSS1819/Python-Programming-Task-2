{
 "cells": [
  {
   "cell_type": "markdown",
   "id": "a0b3a8e6",
   "metadata": {},
   "source": [
    "# Problem 1 : \n",
    "\n",
    "**List Comprehensions**"
   ]
  },
  {
   "cell_type": "code",
   "execution_count": 1,
   "id": "4097ec56",
   "metadata": {},
   "outputs": [
    {
     "name": "stdout",
     "output_type": "stream",
     "text": [
      "1\n",
      "1\n",
      "2\n",
      "3\n",
      "[[0, 0, 0], [0, 0, 1], [0, 0, 2], [0, 1, 0], [0, 1, 1], [1, 0, 0], [1, 0, 1], [1, 1, 0], [1, 1, 2]]\n"
     ]
    }
   ],
   "source": [
    "    x = int(input())\n",
    "    y = int(input())\n",
    "    z = int(input())\n",
    "    n = int(input())\n",
    "    \n",
    "    a = []\n",
    "    \n",
    "    for i in range(0,x+1):\n",
    "        for j in range(0,y+1):\n",
    "            for k in range(0,z+1):\n",
    "                if i+j+k != n :\n",
    "                    a.append([i,j,k])\n",
    "    print(a)\n"
   ]
  },
  {
   "cell_type": "markdown",
   "id": "4eee2700",
   "metadata": {},
   "source": [
    "# Problem 2 :\n",
    "\n",
    "**Find the Runner-Up Score!**"
   ]
  },
  {
   "cell_type": "code",
   "execution_count": null,
   "id": "4be8346e",
   "metadata": {},
   "outputs": [],
   "source": [
    "n = int(input())\n",
    "arr = map(int, input().split())\n",
    "arr = sorted(set(arr))\n",
    "print(arr[-2])"
   ]
  },
  {
   "cell_type": "markdown",
   "id": "67378f96",
   "metadata": {},
   "source": [
    "# Problem 3 :\n",
    "\n",
    "**List**"
   ]
  },
  {
   "cell_type": "code",
   "execution_count": 1,
   "id": "381d509e",
   "metadata": {},
   "outputs": [
    {
     "name": "stdout",
     "output_type": "stream",
     "text": [
      "1\n",
      "1\n",
      "1\n",
      "2\n",
      "[[0, 0, 0], [0, 0, 1], [0, 1, 0], [1, 0, 0], [1, 1, 1]]\n"
     ]
    }
   ],
   "source": [
    "x = int(input())\n",
    "y = int(input())\n",
    "z = int(input())\n",
    "n = int(input())\n",
    "    \n",
    "a = []\n",
    "    \n",
    "for i in range(0,x+1):\n",
    "    for j in range(0,y+1):\n",
    "        for k in range(0,z+1):\n",
    "            if i+j+k != n :\n",
    "                a.append([i,j,k])\n",
    "print(a)"
   ]
  },
  {
   "cell_type": "markdown",
   "id": "4a528f86",
   "metadata": {},
   "source": [
    "# Problem 4 :\n",
    "\n",
    "**Finding the percentage**"
   ]
  },
  {
   "cell_type": "code",
   "execution_count": null,
   "id": "1ecf08b7",
   "metadata": {},
   "outputs": [],
   "source": [
    "n = int(input())\n",
    "student_marks = {}\n",
    "\n",
    "for _ in range(n):\n",
    "    name, *line = input().split()\n",
    "    scores = list(map(float, line))\n",
    "    student_marks[name] = scores\n",
    "    \n",
    "query_name = input()\n",
    "    \n",
    "s=student_marks[query_name]\n",
    "avg=(sum(s)/3)\n",
    "print('%.2f'%avg)"
   ]
  },
  {
   "cell_type": "markdown",
   "id": "2e1a0bc1",
   "metadata": {},
   "source": [
    "# Problem 5 :\n",
    "\n",
    "**Nested Lists**"
   ]
  },
  {
   "cell_type": "code",
   "execution_count": null,
   "id": "25a8837d",
   "metadata": {},
   "outputs": [],
   "source": [
    "li = []\n",
    "ls = []\n",
    "for _ in range(int(input())):\n",
    "    name = input()\n",
    "    score = float(input())\n",
    "    li.append([name, score])\n",
    "    ls.append(score)\n",
    "    \n",
    "#li being sorted by name    \n",
    "li.sort(key= lambda x: x[0])\n",
    "\n",
    "# sorting scores to find the second to lowest\n",
    "s = set(ls)\n",
    "s = sorted(s)\n",
    "# lowest == s[0], so s[1] is the second lowest grade\n",
    "\n",
    "for name, score in li:\n",
    "    if score == s[1]:\n",
    "        print(name)\n"
   ]
  },
  {
   "cell_type": "markdown",
   "id": "3a370046",
   "metadata": {},
   "source": [
    "# Problem 6 :\n",
    "\n",
    "**Tuples**"
   ]
  },
  {
   "cell_type": "code",
   "execution_count": null,
   "id": "c3dc4393",
   "metadata": {},
   "outputs": [],
   "source": [
    "n = int(input())\n",
    "integer_list = map(int, input().split())\n",
    "print(hash(tuple(integer_list)))"
   ]
  },
  {
   "cell_type": "markdown",
   "id": "45ce83fb",
   "metadata": {},
   "source": [
    "# Problem 7 :\n",
    "\n",
    "**Introduction to Sets**"
   ]
  },
  {
   "cell_type": "code",
   "execution_count": null,
   "id": "96f6072c",
   "metadata": {},
   "outputs": [],
   "source": [
    "def average(array):\n",
    "    # your code goes here\n",
    "    set_arr = set(array)\n",
    "    return sum(set_arr)/len(set_arr)\n",
    "\n",
    "\n",
    "n = int(input())\n",
    "arr = list(map(int, input().split()))\n",
    "result = average(arr)\n",
    "print(result)"
   ]
  },
  {
   "cell_type": "markdown",
   "id": "f527964e",
   "metadata": {},
   "source": [
    "# Problem 8 :\n",
    "\n",
    "**No Idea**"
   ]
  },
  {
   "cell_type": "code",
   "execution_count": null,
   "id": "daba19d3",
   "metadata": {},
   "outputs": [],
   "source": [
    "happiness = 0\n",
    "n, m = map(int, input().split())\n",
    "arr = list(map(int, input().split()))\n",
    "A = set(map(int, input().split()))\n",
    "B = set(map(int, input().split()))\n",
    "\n",
    "for i in arr:\n",
    "    if i in A:\n",
    "        happiness += 1\n",
    "    if i in B:\n",
    "        happiness -= 1\n",
    "print(happiness)"
   ]
  },
  {
   "cell_type": "markdown",
   "id": "33aafb8c",
   "metadata": {},
   "source": [
    "# Problem 9 :\n",
    "\n",
    "**Symmetric Difference**"
   ]
  },
  {
   "cell_type": "code",
   "execution_count": null,
   "id": "128e19ab",
   "metadata": {},
   "outputs": [],
   "source": [
    "m = int(input())\n",
    "a = set(map(int, input().split()))\n",
    "n = int(input())\n",
    "b = set(map(int, input().split()))\n",
    "\n",
    "i = a.symmetric_difference(b) \n",
    "for num in sorted(i):\n",
    "    print(num)"
   ]
  },
  {
   "cell_type": "markdown",
   "id": "c8e6e68d",
   "metadata": {},
   "source": [
    "# Problem 10 :\n",
    "    \n",
    "**Set.add()**"
   ]
  },
  {
   "cell_type": "code",
   "execution_count": null,
   "id": "de0294ee",
   "metadata": {},
   "outputs": [],
   "source": [
    "num=int(input())\n",
    "listt=[]\n",
    "for i in range(0,num):\n",
    "    j=input()\n",
    "    listt.append(j)\n",
    "dist=set(listt)\n",
    "print(len(dist))"
   ]
  },
  {
   "cell_type": "markdown",
   "id": "153da70e",
   "metadata": {},
   "source": [
    "# Problem 11 :\n",
    "\n",
    "**Set .discard(), .remove() & .pop()**"
   ]
  },
  {
   "cell_type": "code",
   "execution_count": null,
   "id": "0e93f23e",
   "metadata": {},
   "outputs": [],
   "source": [
    "n = int(input())\n",
    "s = set(map(int, input().split()))\n",
    "N = int(input())\n",
    "for i in range(0,N):\n",
    "    command = input()\n",
    "    if command == 'pop':\n",
    "        s.pop()\n",
    "    else:\n",
    "        command, index = command.split()\n",
    "        s.discard(int(index))\n",
    "        \n",
    "print(sum(s))\n"
   ]
  },
  {
   "cell_type": "markdown",
   "id": "5fcf732a",
   "metadata": {},
   "source": [
    "# Problem 12 :\n",
    "\n",
    "**Set .union() Operation**"
   ]
  },
  {
   "cell_type": "markdown",
   "id": "1bc89473",
   "metadata": {},
   "source": [
    "n = int(input())\n",
    "a = set(map(int, input().split(' ')))\n",
    "n = int(input())\n",
    "b = set(map(int, input().split(' ')))\n",
    "print(len(a.union(b)))"
   ]
  }
 ],
 "metadata": {
  "kernelspec": {
   "display_name": "Python 3 (ipykernel)",
   "language": "python",
   "name": "python3"
  },
  "language_info": {
   "codemirror_mode": {
    "name": "ipython",
    "version": 3
   },
   "file_extension": ".py",
   "mimetype": "text/x-python",
   "name": "python",
   "nbconvert_exporter": "python",
   "pygments_lexer": "ipython3",
   "version": "3.9.13"
  }
 },
 "nbformat": 4,
 "nbformat_minor": 5
}
